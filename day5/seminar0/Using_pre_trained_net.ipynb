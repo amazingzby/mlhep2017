{
 "cells": [
  {
   "cell_type": "markdown",
   "metadata": {},
   "source": [
    "### Imagenet\n",
    "\n",
    "Largest image classification dataset at this point of time.\n",
    "\n",
    "Url: http://image-net.org/\n",
    "\n",
    "Our setup: classify from a set of 1000 classes."
   ]
  },
  {
   "cell_type": "code",
   "execution_count": null,
   "metadata": {},
   "outputs": [],
   "source": [
    "#classes' names are stored here\n",
    "import pickle\n",
    "classes = pickle.load(open('classes.pkl','rb'))\n",
    "print (classes[::100])"
   ]
  },
  {
   "cell_type": "markdown",
   "metadata": {},
   "source": [
    "### Using pre-trained model: inception\n",
    "Keras has a number of models for which you can use pre-trained weights. The interface is super-straightforward:"
   ]
  },
  {
   "cell_type": "code",
   "execution_count": null,
   "metadata": {
    "collapsed": true
   },
   "outputs": [],
   "source": [
    "import tensorflow as tf\n",
    "gpu_options = tf.GPUOptions(allow_growth=True, per_process_gpu_memory_fraction=0.1)\n",
    "s = tf.InteractiveSession(config=tf.ConfigProto(gpu_options=gpu_options))"
   ]
  },
  {
   "cell_type": "code",
   "execution_count": null,
   "metadata": {},
   "outputs": [],
   "source": [
    "import keras\n",
    "import keras.applications as zoo\n",
    "\n",
    "model = zoo.InceptionV3(include_top=True, weights='imagenet')"
   ]
  },
  {
   "cell_type": "code",
   "execution_count": null,
   "metadata": {},
   "outputs": [],
   "source": [
    "model.summary()"
   ]
  },
  {
   "cell_type": "markdown",
   "metadata": {},
   "source": [
    "### Predict class probabilities"
   ]
  },
  {
   "cell_type": "code",
   "execution_count": null,
   "metadata": {},
   "outputs": [],
   "source": [
    "import matplotlib.pyplot as plt\n",
    "from scipy.misc import imresize\n",
    "%matplotlib inline\n",
    "\n",
    "img = imresize(plt.imread('sample_images/albatross.jpg'), (299,299))\n",
    "plt.imshow(img)\n",
    "plt.show()\n",
    "\n",
    "img_preprocessed = zoo.inception_v3.preprocess_input(img[None].astype('float32'))\n",
    "\n",
    "probs = model.predict(img_preprocessed)\n",
    "\n",
    "labels = probs.ravel().argsort()[-1:-10:-1]\n",
    "print ('top-10 classes are:')\n",
    "for l in labels:\n",
    "    print ('%.4f\\t%s' % (probs.ravel()[l], classes[l].split(',')[0]))\n",
    "\n"
   ]
  },
  {
   "cell_type": "markdown",
   "metadata": {},
   "source": [
    "### Having fun with pre-trained nets"
   ]
  },
  {
   "cell_type": "code",
   "execution_count": null,
   "metadata": {},
   "outputs": [],
   "source": [
    "!wget http://cdn.com.do/wp-content/uploads/2017/02/Donal-Trum-Derogar.jpeg -O img.jpg"
   ]
  },
  {
   "cell_type": "code",
   "execution_count": null,
   "metadata": {},
   "outputs": [],
   "source": [
    "img = imresize(plt.imread('img.jpg'), (299,299))\n",
    "plt.imshow(img)\n",
    "plt.show()\n",
    "\n",
    "img_preprocessed = zoo.inception_v3.preprocess_input(img[None].astype('float32'))\n",
    "\n",
    "probs = model.predict(img_preprocessed)\n",
    "\n",
    "labels = probs.ravel().argsort()[-1:-10:-1]\n",
    "print ('top-10 classes are:')\n",
    "for l in labels:\n",
    "    print ('%.4f\\t%s' % (probs.ravel()[l], classes[l].split(',')[0]))\n",
    "\n"
   ]
  },
  {
   "cell_type": "markdown",
   "metadata": {},
   "source": [
    "### How do you reuse layers\n",
    "\n",
    "Since model is just a sequence of layers, one can apply it as any other Keras model. Then you can build more layers on top of it, train them and maybe fine-tune \"body\" weights a bit."
   ]
  },
  {
   "cell_type": "code",
   "execution_count": null,
   "metadata": {},
   "outputs": [],
   "source": [
    "img = tf.placeholder('float32',[None,299,299,3])\n",
    "\n",
    "neck = zoo.InceptionV3(include_top=False, weights='imagenet')(img)\n",
    "\n",
    "hid = keras.layers.GlobalMaxPool2D()(neck)\n",
    "\n",
    "hid = keras.layers.Dense(512,activation='relu')(hid)\n",
    "\n",
    "out = keras.layers.Dense(10,activation='softmax')(hid)\n",
    "\n",
    "#<...> loss, training, etc."
   ]
  }
 ],
 "metadata": {
  "kernelspec": {
   "display_name": "Python 3",
   "language": "python",
   "name": "python3"
  },
  "language_info": {
   "codemirror_mode": {
    "name": "ipython",
    "version": 3
   },
   "file_extension": ".py",
   "mimetype": "text/x-python",
   "name": "python",
   "nbconvert_exporter": "python",
   "pygments_lexer": "ipython3",
   "version": "3.6.1"
  }
 },
 "nbformat": 4,
 "nbformat_minor": 2
}
